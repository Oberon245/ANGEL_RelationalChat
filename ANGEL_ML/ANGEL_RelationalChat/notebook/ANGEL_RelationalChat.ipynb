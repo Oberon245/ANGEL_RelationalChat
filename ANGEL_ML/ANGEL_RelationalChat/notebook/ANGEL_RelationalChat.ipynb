{
 "cells": [
  {
   "cell_type": "code",
   "execution_count": 64,
   "id": "5c845c04-df39-4dd8-bbc6-ee619ce98830",
   "metadata": {},
   "outputs": [],
   "source": [
    "# Load required libraries\n",
    "import os\n",
    "import json\n",
    "from datetime import datetime\n",
    "\n",
    "# Define memory log path\n",
    "memory_log_path = \"../memory/session_log.json\"\n",
    "\n",
    "# Ensure memory file exists\n",
    "if not os.path.exists(memory_log_path):\n",
    "    with open(memory_log_path, \"w\", encoding=\"utf-8\") as f:\n",
    "        json.dump([], f, indent=2)\n",
    "\n",
    "# Define function to log conversational turns\n",
    "def log_conversation_entry(user_input, ai_response, emotional_tags=None):\n",
    "    entry = {\n",
    "        \"timestamp\": datetime.now().isoformat(),\n",
    "        \"user_input\": user_input,\n",
    "        \"ai_response\": ai_response,\n",
    "        \"emotional_tags\": emotional_tags or []\n",
    "    }\n",
    "\n",
    "    # Load existing log\n",
    "    with open(memory_log_path, \"r\", encoding=\"utf-8\") as f:\n",
    "        log = json.load(f)\n",
    "\n",
    "    # Append new entry\n",
    "    log.append(entry)\n",
    "\n",
    "    # Save updated log\n",
    "    with open(memory_log_path, \"w\", encoding=\"utf-8\") as f:\n",
    "        json.dump(log, f, indent=2)\n"
   ]
  },
  {
   "cell_type": "code",
   "execution_count": 65,
   "id": "3e08cbe2-824f-44cb-a642-351e43d04229",
   "metadata": {},
   "outputs": [],
   "source": [
    "# Ensure memory directory exists\n",
    "os.makedirs(\"memory\", exist_ok=True)\n"
   ]
  },
  {
   "cell_type": "code",
   "execution_count": 66,
   "id": "827a7ea1-4205-4c74-9898-f20ea3a52ed2",
   "metadata": {},
   "outputs": [],
   "source": [
    "# Basic placeholder AI response function\n",
    "def simulate_ai_response(user_input):\n",
    "    \"\"\"\n",
    "    This is a stub to simulate AI response generation.\n",
    "    Replace this logic with a real model or API call as needed.\n",
    "    \"\"\"\n",
    "    if \"help\" in user_input.lower():\n",
    "        return \"I'm here to help. Tell me more about what's going on.\"\n",
    "    elif \"tired\" in user_input.lower():\n",
    "        return \"It sounds like you've had a long day. Want to talk about it?\"\n",
    "    else:\n",
    "        return \"Thanks for sharing. What else is on your mind?\"\n"
   ]
  },
  {
   "cell_type": "code",
   "execution_count": 67,
   "id": "d618b373-5aed-4300-87c9-1cb11b0b4702",
   "metadata": {},
   "outputs": [],
   "source": [
    "# Predefined simple emotional tag dictionary\n",
    "emotional_keywords = {\n",
    "    \"help\": \"supportive\",\n",
    "    \"tired\": \"empathy\",\n",
    "    \"thanks\": \"gratitude\",\n",
    "    \"sorry\": \"remorse\",\n",
    "    \"happy\": \"joy\",\n",
    "    \"angry\": \"frustration\",\n",
    "    \"worried\": \"concern\",\n",
    "    \"love\": \"affection\",\n",
    "    \"hate\": \"aversion\"\n",
    "}\n",
    "\n",
    "# Emotional tagger based on keywords in the AI response\n",
    "def tag_emotional_content(text):\n",
    "    tags = []\n",
    "    for word, tag in emotional_keywords.items():\n",
    "        if word in text.lower():\n",
    "            tags.append(tag)\n",
    "    return tags\n"
   ]
  },
  {
   "cell_type": "code",
   "execution_count": 68,
   "id": "d10111bf-dc0b-4e3f-acb6-4c78fe921364",
   "metadata": {},
   "outputs": [],
   "source": [
    "def process_conversation(user_input):\n",
    "    ai_response = simulate_ai_response(user_input)\n",
    "    tags = tag_emotional_content(ai_response)\n",
    "    \n",
    "    entry = {\n",
    "        \"timestamp\": datetime.now().isoformat(),\n",
    "        \"user_input\": user_input,\n",
    "        \"ai_response\": ai_response,\n",
    "        \"emotional_tags\": tags\n",
    "    }\n",
    "\n",
    "    append_to_memory(entry)\n",
    "\n",
    "    print(f\"\\n🤖 ANGEL.AI: {ai_response}\")\n",
    "    if tags:\n",
    "        print(f\"🧭 Emotional Tags: {', '.join(tags)}\")\n",
    "    else:\n",
    "        print(\"🧭 Emotional Tags: None\")\n",
    "\n",
    "# Optional: trigger an example\n",
    "# process_conversation(\"I'm feeling a little tired but grateful for your help.\")\n"
   ]
  },
  {
   "cell_type": "code",
   "execution_count": 69,
   "id": "6d39d22e-472a-4759-b1d5-2130ca2b5d09",
   "metadata": {},
   "outputs": [
    {
     "name": "stdout",
     "output_type": "stream",
     "text": [
      "🔄 Dominant emotional tone in recent exchanges: neutral\n"
     ]
    }
   ],
   "source": [
    "# Load emotional tags from memory\n",
    "def load_emotional_tags(memory_path):\n",
    "    if os.path.exists(memory_path):\n",
    "        with open(memory_path, \"r\") as f:\n",
    "            try:\n",
    "                tags = json.load(f)\n",
    "                return tags\n",
    "            except json.JSONDecodeError:\n",
    "                return []\n",
    "    return []\n",
    "\n",
    "# Analyze recent emotional tags to find dominant emotional tone\n",
    "def get_dominant_emotion(tags, window_size=5):\n",
    "    if not tags:\n",
    "        return \"neutral\"\n",
    "    \n",
    "    recent_tags = tags[-window_size:]\n",
    "    emotion_scores = {}\n",
    "\n",
    "    for tag in recent_tags:\n",
    "        emotion = tag[1] \n",
    "        emotion_scores[emotion] = emotion_scores.get(emotion, 0) + 1\n",
    "\n",
    "    dominant_emotion = max(emotion_scores, key=emotion_scores.get)\n",
    "    return dominant_emotion\n",
    "\n",
    "# Apply this to current session\n",
    "memory_path = os.path.join(\"..\", \"data\", \"emotional_tags.json\")\n",
    "emotional_tags = load_emotional_tags(memory_path)\n",
    "dominant_emotion = get_dominant_emotion(emotional_tags)\n",
    "\n",
    "print(f\"🔄 Dominant emotional tone in recent exchanges: {dominant_emotion}\")\n"
   ]
  },
  {
   "cell_type": "code",
   "execution_count": 70,
   "id": "68ae24bd-f7c2-4134-bf02-eb61ce808b30",
   "metadata": {},
   "outputs": [],
   "source": [
    "# Dictionary of emotional keywords and their weights\n",
    "emotional_tags = {\n",
    "    \"overwhelmed\": 0.9,\n",
    "    \"frustrated\": 0.8,\n",
    "    \"angry\": 0.85,\n",
    "    \"anxious\": 0.75,\n",
    "    \"sad\": 0.7,\n",
    "    \"worried\": 0.65,\n",
    "    \"believe\": 0.4,\n",
    "    \"hope\": 0.3,\n",
    "    \"calm\": 0.2,\n",
    "    \"okay\": 0.1,\n",
    "    \"neutral\": 0.0,\n",
    "    \"confident\": -0.3,\n",
    "    \"excited\": -0.5,\n",
    "    \"relieved\": -0.4,\n",
    "    \"grateful\": -0.6,\n",
    "    \"happy\": -0.7,\n",
    "    \"joyful\": -0.9,\n",
    "    \"inspired\": -1.0\n",
    "}\n"
   ]
  },
  {
   "cell_type": "code",
   "execution_count": 71,
   "id": "d8b29c6c-bcc1-4062-9faa-257256f1bedd",
   "metadata": {},
   "outputs": [],
   "source": [
    "def tag_emotional_tokens(text):\n",
    "    tokens = text.split()\n",
    "    weighted_tokens = []\n",
    "    for token in tokens:\n",
    "        weight = emotional_tags.get(token.lower(), 0.0)\n",
    "        weighted_tokens.append((token, weight))\n",
    "    return weighted_tokens\n"
   ]
  },
  {
   "cell_type": "code",
   "execution_count": 72,
   "id": "ddd53c50-79c9-468e-816d-b476031b98cc",
   "metadata": {},
   "outputs": [],
   "source": [
    "def save_to_session_log(log_entry, file_path=\"memory/session_log.json\"):\n",
    "    try:\n",
    "        # Load existing log or start new one\n",
    "        if os.path.exists(file_path):\n",
    "            with open(file_path, \"r\", encoding=\"utf-8\") as f:\n",
    "                data = json.load(f)\n",
    "        else:\n",
    "            data = []\n",
    "\n",
    "        data.append(log_entry)\n",
    "\n",
    "        # Save updated log\n",
    "        with open(file_path, \"w\", encoding=\"utf-8\") as f:\n",
    "            json.dump(data, f, indent=4)\n",
    "\n",
    "        print(\"✅ Session log updated.\")\n",
    "    except Exception as e:\n",
    "        print(f\"⚠️ Error saving to session log: {e}\")\n"
   ]
  },
  {
   "cell_type": "code",
   "execution_count": 73,
   "id": "530c7aee-0793-4192-a876-7cb50e965646",
   "metadata": {},
   "outputs": [],
   "source": [
    "def summarize_emotions(weighted_tokens):\n",
    "    \"\"\"\n",
    "    Summarizes the emotional weights and returns a dominant tone.\n",
    "    \"\"\"\n",
    "    emotion_totals = {}\n",
    "    for emotion, weight in weighted_tokens:\n",
    "        if emotion not in emotion_totals:\n",
    "            emotion_totals[emotion] = 0\n",
    "        emotion_totals[emotion] += weight\n",
    "\n",
    "    # Sort by total weight descending\n",
    "    sorted_emotions = sorted(emotion_totals.items(), key=lambda x: x[1], reverse=True)\n",
    "\n",
    "    if sorted_emotions:\n",
    "        dominant_emotion = sorted_emotions[0][0]\n",
    "        print(f\"🔍 Dominant emotional tone in recent exchanges: {dominant_emotion}\")\n",
    "        return dominant_emotion\n",
    "    else:\n",
    "        print(\"🔍 No dominant emotion detected.\")\n",
    "        return \"neutral\"\n"
   ]
  },
  {
   "cell_type": "code",
   "execution_count": 74,
   "id": "a25abef3-110b-4bae-a6b5-a90d79f22e16",
   "metadata": {},
   "outputs": [
    {
     "name": "stdout",
     "output_type": "stream",
     "text": [
      "\n",
      "🤖 Adaptive AI response:\n",
      "Okay — here's my best response based on what you've asked:\n"
     ]
    }
   ],
   "source": [
    "# Adaptive AI response generator based on dominant emotional tone\n",
    "\n",
    "def generate_adaptive_response(user_input, dominant_emotion):\n",
    "    \"\"\"\n",
    "    Simulates an AI response that adapts to the emotional context.\n",
    "    \"\"\"\n",
    "    if dominant_emotion == \"stress\":\n",
    "        response = f\"I can sense some tension in our recent exchange. Let's take things one step at a time. You're doing great. How can I support you right now?\"\n",
    "    elif dominant_emotion == \"confusion\":\n",
    "        response = f\"It seems like something might not be clear. Would it help if I explained that another way or broke it down further?\"\n",
    "    elif dominant_emotion == \"joy\":\n",
    "        response = f\"I'm glad you're feeling positive! Let's keep this momentum going — what would you like to explore next?\"\n",
    "    elif dominant_emotion == \"curiosity\":\n",
    "        response = f\"You're asking excellent questions. Let's dig deeper into that together — here's what I think:\"\n",
    "    elif dominant_emotion == \"neutral\":\n",
    "        response = f\"Okay — here's my best response based on what you've asked:\"\n",
    "    else:\n",
    "        response = f\"I'm here with you, whatever you're feeling. Let's keep going — how can I assist?\"\n",
    "\n",
    "    return response\n",
    "\n",
    "# Example simulation:\n",
    "user_input = \"I’m trying to understand how the feedback loop affects response.\"\n",
    "adaptive_response = generate_adaptive_response(user_input, dominant_emotion)\n",
    "print(\"\\n🤖 Adaptive AI response:\")\n",
    "print(adaptive_response)\n"
   ]
  },
  {
   "cell_type": "code",
   "execution_count": 76,
   "id": "a1714497-e52f-4c88-bd8f-50c10bd5d09c",
   "metadata": {},
   "outputs": [],
   "source": [
    "# Generate AI response based on emotional tone\n",
    "def generate_ai_response(user_input, emotion):\n",
    "    if emotion == \"positive\":\n",
    "        return \"I'm glad to hear that! Let's keep up the good work together.\"\n",
    "    elif emotion == \"negative\":\n",
    "        return \"That sounds tough. I'm here to help however I can.\"\n",
    "    elif emotion == \"neutral\":\n",
    "        return \"Got it. Let’s keep things moving forward.\"\n",
    "    elif emotion == \"anxious\":\n",
    "        return \"I can feel the pressure you're under. Let’s break things down together.\"\n",
    "    elif emotion == \"hopeful\":\n",
    "        return \"Hope is powerful — let’s build on that together.\"\n",
    "    else:\n",
    "        return \"Thanks for sharing. Let’s keep the momentum going.\"\n"
   ]
  },
  {
   "cell_type": "code",
   "execution_count": 77,
   "id": "f6e8e222-c7bd-4195-bbac-f4374f8d3b6f",
   "metadata": {},
   "outputs": [
    {
     "name": "stdout",
     "output_type": "stream",
     "text": [
      "✅ Session log updated.\n",
      "🔎 Detected emotional tone: 0.0\n",
      "✅ Session log updated.\n",
      "🤖 Adaptive AI response:\n",
      "Thanks for sharing. Let’s keep the momentum going.\n"
     ]
    },
    {
     "data": {
      "text/plain": [
       "'Thanks for sharing. Let’s keep the momentum going.'"
      ]
     },
     "execution_count": 77,
     "metadata": {},
     "output_type": "execute_result"
    }
   ],
   "source": [
    "run_conversation_step(\"I feel totally overwhelmed trying to build this project, but I believe in it.\")\n"
   ]
  },
  {
   "cell_type": "code",
   "execution_count": null,
   "id": "44e11e4e-e623-47d5-bece-540008fe4b1d",
   "metadata": {},
   "outputs": [],
   "source": []
  }
 ],
 "metadata": {
  "kernelspec": {
   "display_name": "Python 3 (ipykernel)",
   "language": "python",
   "name": "python3"
  },
  "language_info": {
   "codemirror_mode": {
    "name": "ipython",
    "version": 3
   },
   "file_extension": ".py",
   "mimetype": "text/x-python",
   "name": "python",
   "nbconvert_exporter": "python",
   "pygments_lexer": "ipython3",
   "version": "3.10.11"
  }
 },
 "nbformat": 4,
 "nbformat_minor": 5
}
